{
 "cells": [
  {
   "cell_type": "markdown",
   "metadata": {},
   "source": [
    "#### DWM-07P: Using only summary() statistics to evolve the rules for classification of iris.csv for the maximum possible range of values. Print the rules and print the range of values which cannot be classified using only the summary statistics. For the unclassified range of values, use Artificial Neural Networks (ANN) to classify. Write the outcome."
   ]
  },
  {
   "cell_type": "markdown",
   "metadata": {},
   "source": [
    "### Getting Started"
   ]
  },
  {
   "cell_type": "code",
   "execution_count": 411,
   "metadata": {},
   "outputs": [],
   "source": [
    "import math\n",
    "import random\n",
    "import matplotlib.pyplot as plt"
   ]
  },
  {
   "cell_type": "code",
   "execution_count": 412,
   "metadata": {},
   "outputs": [],
   "source": [
    "# Set a fixed seed for random to ensure reproducibily\n",
    "random.seed(0)"
   ]
  },
  {
   "cell_type": "code",
   "execution_count": 413,
   "metadata": {},
   "outputs": [],
   "source": [
    "def scatter(*args):\n",
    "    \"\"\"\n",
    "    Draw a scatter plot for one or more lists of points.\n",
    "\n",
    "    Parameters:\n",
    "    *args (list): One or more lists of points to be plotted.\n",
    "\n",
    "    Returns:\n",
    "    None\n",
    "    \"\"\"\n",
    "    plt.figure(figsize=(8, 6))\n",
    "\n",
    "    for idx, points_list in enumerate(args):\n",
    "        x_values = range(1, len(points_list) + 1)\n",
    "        y_values = points_list\n",
    "        plt.scatter(x_values, y_values)\n",
    "\n",
    "    plt.show()"
   ]
  },
  {
   "cell_type": "markdown",
   "metadata": {},
   "source": [
    "### 1. Preprocessing"
   ]
  },
  {
   "cell_type": "code",
   "execution_count": 414,
   "metadata": {},
   "outputs": [],
   "source": [
    "def read_csv(filename):\n",
    "    \"\"\"\n",
    "    Purpose: Read data from a CSV file and extract relevant information.\n",
    "\n",
    "    Description of Input Parameters:\n",
    "    - filename: Name of the CSV file to be read.\n",
    "\n",
    "    Description of Return Data:\n",
    "    - data: List of lists containing extracted data from the CSV file.\n",
    "\n",
    "    Libraries Used: None\n",
    "    \"\"\"\n",
    "    try:\n",
    "        lines = open(filename, \"r\").read().split(\"\\n\")\n",
    "        data = []\n",
    "        for line in lines[1:]:\n",
    "            if line.replace(\" \", \"\") != \"\":\n",
    "                words = line.split(\",\")\n",
    "                data.append([float(words[1]), float(words[2]), float(words[3]), float(words[4]), words[5][1:-1]])\n",
    "        return data\n",
    "    \n",
    "    except Exception as exception:\n",
    "        print(exception)\n",
    "        return None"
   ]
  },
  {
   "cell_type": "code",
   "execution_count": 415,
   "metadata": {},
   "outputs": [],
   "source": [
    "def encode(data, lookup):\n",
    "    \"\"\"\n",
    "    Purpose: Encode categorical data in the dataset using a lookup table.\n",
    "\n",
    "    Description of Input Parameters:\n",
    "    - data: List of lists representing the dataset.\n",
    "    - lookup: Dictionary mapping categorical values to encoded values.\n",
    "\n",
    "    Description of Return Data: None\n",
    "\n",
    "    Libraries Used: None\n",
    "    \"\"\"\n",
    "    try:\n",
    "        for row in data:\n",
    "            row[-1] = lookup[row[-1]]\n",
    "    except Exception as exception:\n",
    "        print(exception)"
   ]
  },
  {
   "cell_type": "code",
   "execution_count": 416,
   "metadata": {},
   "outputs": [],
   "source": [
    "def head(data, rows=5):\n",
    "    \"\"\"\n",
    "    Purpose: Display the first few rows of the dataset.\n",
    "\n",
    "    Description of Input Parameters:\n",
    "    - data: List of lists representing the dataset.\n",
    "    - rows: Number of rows to display (default is 5).\n",
    "\n",
    "    Description of Return Data: None\n",
    "\n",
    "    Libraries Used: None\n",
    "    \"\"\"\n",
    "    for i in range(rows):\n",
    "        try:\n",
    "            print(data[i])\n",
    "        except:\n",
    "            break"
   ]
  },
  {
   "cell_type": "code",
   "execution_count": 417,
   "metadata": {},
   "outputs": [],
   "source": [
    "def shuffle(data):\n",
    "    \"\"\"\n",
    "    Purpose: Shuffle the order of rows in the dataset.\n",
    "\n",
    "    Description of Input Parameters:\n",
    "    - data: List of lists representing the dataset.\n",
    "\n",
    "    Description of Return Data: None\n",
    "\n",
    "    Libraries Used: random\n",
    "    \"\"\"\n",
    "    try:\n",
    "        random.shuffle(data)\n",
    "    except Exception as exception:\n",
    "        print(exception)"
   ]
  },
  {
   "cell_type": "code",
   "execution_count": 418,
   "metadata": {},
   "outputs": [],
   "source": [
    "def split_data(data, split_ratio):\n",
    "    \"\"\"\n",
    "    Purpose: Split the dataset into training and testing sets.\n",
    "\n",
    "    Description of Input Parameters:\n",
    "    - data: List of lists representing the dataset.\n",
    "    - split_ratio: Proportion of data to be allocated to the training set.\n",
    "\n",
    "    Description of Return Data:\n",
    "    - train_set: Subset of data for training.\n",
    "    - test_set: Subset of data for testing.\n",
    "\n",
    "    Libraries Used: None\n",
    "    \"\"\"\n",
    "    try:\n",
    "        train_size = int(len(data) * split_ratio)\n",
    "        train_set = data[0:train_size]\n",
    "        test_set = data[train_size:]\n",
    "        return train_set, test_set\n",
    "    \n",
    "    except Exception as exception:\n",
    "        print(exception)\n",
    "        return None, None"
   ]
  },
  {
   "cell_type": "code",
   "execution_count": 419,
   "metadata": {},
   "outputs": [
    {
     "name": "stdout",
     "output_type": "stream",
     "text": [
      "[5.1, 3.5, 1.4, 0.2, 'setosa']\n",
      "[4.9, 3.0, 1.4, 0.2, 'setosa']\n",
      "[4.7, 3.2, 1.3, 0.2, 'setosa']\n",
      "[4.6, 3.1, 1.5, 0.2, 'setosa']\n",
      "[5.0, 3.6, 1.4, 0.2, 'setosa']\n"
     ]
    }
   ],
   "source": [
    "data = read_csv(\"../data/iris.csv\")\n",
    "\n",
    "head(data)"
   ]
  },
  {
   "cell_type": "code",
   "execution_count": 420,
   "metadata": {},
   "outputs": [
    {
     "data": {
      "image/png": "[encoded data removed]",
      "text/plain": [
       "<Figure size 800x600 with 1 Axes>"
      ]
     },
     "metadata": {},
     "output_type": "display_data"
    }
   ],
   "source": [
    "scatter([row[0] for row in data], [row[1] for row in data], [row[2] for row in data], [row[3] for row in data])"
   ]
  },
  {
   "cell_type": "code",
   "execution_count": 421,
   "metadata": {},
   "outputs": [
    {
     "name": "stdout",
     "output_type": "stream",
     "text": [
      "[5.2, 3.5, 1.5, 0.2, 0]\n",
      "[7.0, 3.2, 4.7, 1.4, 1]\n",
      "[5.5, 2.3, 4.0, 1.3, 1]\n",
      "[6.3, 2.7, 4.9, 1.8, 2]\n",
      "[5.7, 3.0, 4.2, 1.2, 1]\n"
     ]
    }
   ],
   "source": [
    "# Since there are no strict outliers, no need to handle them. Also, no absent data values, hence no requirement of handling missing data.\n",
    "\n",
    "lookup = {\"setosa\": 0, \"versicolor\": 1, \"virginica\": 2}\n",
    "encode(data, lookup)\n",
    "shuffle(data)\n",
    "\n",
    "head(data)"
   ]
  },
  {
   "cell_type": "code",
   "execution_count": 422,
   "metadata": {},
   "outputs": [],
   "source": [
    "split_ratio = 0.8\n",
    "train_set, test_set = split_data(data, split_ratio)"
   ]
  },
  {
   "cell_type": "markdown",
   "metadata": {},
   "source": [
    "### 2. Train the ANN Model"
   ]
  },
  {
   "cell_type": "code",
   "execution_count": 423,
   "metadata": {},
   "outputs": [],
   "source": [
    "def initialize_network(n_inputs, n_hidden, n_outputs):\n",
    "    \"\"\"\n",
    "    Purpose: Initialize a neural network with random weights.\n",
    "\n",
    "    Description of Input Parameters:\n",
    "    - n_inputs: Number of input nodes.\n",
    "    - n_hidden: Number of nodes in the hidden layer.\n",
    "    - n_outputs: Number of output nodes.\n",
    "\n",
    "    Description of Return Data:\n",
    "    - network: Initialized neural network.\n",
    "\n",
    "    Libraries Used: random\n",
    "    \"\"\"\n",
    "    network = []\n",
    "    hidden_layer = [{'weights': [random.uniform(-0.5, 0.5) for _ in range(n_inputs + 1)]} for _ in range(n_hidden)]\n",
    "    network.append(hidden_layer)\n",
    "    output_layer = [{'weights': [random.uniform(-0.5, 0.5) for _ in range(n_hidden + 1)]} for _ in range(n_outputs)]\n",
    "    network.append(output_layer)\n",
    "    return network"
   ]
  },
  {
   "cell_type": "code",
   "execution_count": 424,
   "metadata": {},
   "outputs": [],
   "source": [
    "def activate(weights, inputs):\n",
    "    \"\"\"\n",
    "    Purpose: Calculate the activation of a neuron.\n",
    "\n",
    "    Description of Input Parameters:\n",
    "    - weights: List of weights for the neuron.\n",
    "    - inputs: List of input values.\n",
    "\n",
    "    Description of Return Data:\n",
    "    - activation: Calculated activation value.\n",
    "\n",
    "    Libraries Used: None\n",
    "    \"\"\"\n",
    "    activation = weights[-1]\n",
    "    for i in range(len(weights)-1):\n",
    "        activation += weights[i] * inputs[i]\n",
    "    return activation"
   ]
  },
  {
   "cell_type": "code",
   "execution_count": 425,
   "metadata": {},
   "outputs": [],
   "source": [
    "def sigmoid(activation):\n",
    "    \"\"\"\n",
    "    Purpose: Compute the sigmoid activation function.\n",
    "\n",
    "    Description of Input Parameters:\n",
    "    - activation: Input value to the sigmoid function.\n",
    "\n",
    "    Description of Return Data:\n",
    "    - sigmoid_value: Result of the sigmoid function.\n",
    "\n",
    "    Libraries Used: math\n",
    "    \"\"\"\n",
    "    return 1.0 / (1.0 + math.exp(-activation))"
   ]
  },
  {
   "cell_type": "code",
   "execution_count": 426,
   "metadata": {},
   "outputs": [],
   "source": [
    "def forward_propagate(network, row):\n",
    "    \"\"\"\n",
    "    Purpose: Perform forward propagation through the neural network.\n",
    "\n",
    "    Description of Input Parameters:\n",
    "    - network: Neural network model.\n",
    "    - row: Input data row.\n",
    "\n",
    "    Description of Return Data:\n",
    "    - inputs: Output values from the last layer.\n",
    "\n",
    "    Libraries Used: None\n",
    "    \"\"\"\n",
    "    inputs = row\n",
    "    for layer in network:\n",
    "        new_inputs = []\n",
    "        for neuron in layer:\n",
    "            activation = activate(neuron['weights'], inputs)\n",
    "            neuron['output'] = sigmoid(activation)\n",
    "            new_inputs.append(neuron['output'])\n",
    "        inputs = new_inputs\n",
    "    return inputs"
   ]
  },
  {
   "cell_type": "code",
   "execution_count": 427,
   "metadata": {},
   "outputs": [],
   "source": [
    "def backward_propagate_error(network, expected):\n",
    "    \"\"\"\n",
    "    Purpose: Backpropagate error and update neuron deltas.\n",
    "\n",
    "    Description of Input Parameters:\n",
    "    - network: Neural network model.\n",
    "    - expected: Expected output values.\n",
    "\n",
    "    Description of Return Data: None\n",
    "\n",
    "    Libraries Used: None\n",
    "    \"\"\"\n",
    "    for i in reversed(range(len(network))):\n",
    "        layer = network[i]\n",
    "        errors = []\n",
    "        if i != len(network) - 1:\n",
    "            for j in range(len(layer)):\n",
    "                error = 0.0\n",
    "                for neuron in network[i + 1]:\n",
    "                    error += (neuron['weights'][j] * neuron['delta'])\n",
    "                errors.append(error)\n",
    "        else:\n",
    "            for j, neuron in enumerate(layer):\n",
    "                errors.append(expected[j] - neuron['output'])\n",
    "        for j, neuron in enumerate(layer):\n",
    "            neuron['delta'] = errors[j] * neuron['output'] * (1.0 - neuron['output'])"
   ]
  },
  {
   "cell_type": "code",
   "execution_count": 428,
   "metadata": {},
   "outputs": [],
   "source": [
    "def update_weights(network, row, learning_rate):\n",
    "    \"\"\"\n",
    "    Purpose: Update weights of neurons based on backpropagated error.\n",
    "\n",
    "    Description of Input Parameters:\n",
    "    - network: Neural network model.\n",
    "    - row: Input data row.\n",
    "    - learning_rate: Learning rate for weight updates.\n",
    "\n",
    "    Description of Return Data: None\n",
    "\n",
    "    Libraries Used: None\n",
    "    \"\"\"\n",
    "    for i in range(len(network)):\n",
    "        inputs = row[:-1]\n",
    "        if i != 0:\n",
    "            inputs = [neuron['output'] for neuron in network[i - 1]]\n",
    "        for neuron in network[i]:\n",
    "            for j in range(len(inputs)):\n",
    "                neuron['weights'][j] += learning_rate * neuron['delta'] * inputs[j]\n",
    "            neuron['weights'][-1] += learning_rate * neuron['delta']"
   ]
  },
  {
   "cell_type": "code",
   "execution_count": 429,
   "metadata": {},
   "outputs": [],
   "source": [
    "def train_network(network, train, learning_rate, n_epoch, n_outputs, verbose=False):\n",
    "    \"\"\"\n",
    "    Purpose: Train the neural network using backpropagation.\n",
    "\n",
    "    Description of Input Parameters:\n",
    "    - network: Neural network model.\n",
    "    - train: Training dataset.\n",
    "    - learning_rate: Learning rate for weight updates.\n",
    "    - n_epoch: Number of training epochs.\n",
    "    - n_outputs: Number of output nodes.\n",
    "    - verbose: Boolean flag for printing training progress.\n",
    "\n",
    "    Description of Return Data: None\n",
    "\n",
    "    Libraries Used: None\n",
    "    \"\"\"\n",
    "    for epoch in range(n_epoch):\n",
    "        sum_error = 0\n",
    "        for row in train:\n",
    "            outputs = forward_propagate(network, row)\n",
    "            expected = [0] * n_outputs\n",
    "            expected[row[-1]] = 1\n",
    "            sum_error += sum([(expected[i] - outputs[i]) ** 2 for i in range(len(expected))])\n",
    "            backward_propagate_error(network, expected)\n",
    "            update_weights(network, row, learning_rate)\n",
    "        if verbose:\n",
    "            print(f'> epoch={epoch+1}, learning_rate={learning_rate}, error={sum_error}')"
   ]
  },
  {
   "cell_type": "code",
   "execution_count": 430,
   "metadata": {},
   "outputs": [],
   "source": [
    "def predict(network, row):\n",
    "    \"\"\"\n",
    "    Purpose: Make predictions using the trained neural network.\n",
    "\n",
    "    Description of Input Parameters:\n",
    "    - network: Trained neural network model.\n",
    "    - row: Input data row for prediction.\n",
    "\n",
    "    Description of Return Data:\n",
    "    - prediction: Predicted class label.\n",
    "\n",
    "    Libraries Used: None\n",
    "    \"\"\"\n",
    "    outputs = forward_propagate(network, row)\n",
    "    return outputs.index(max(outputs))"
   ]
  },
  {
   "cell_type": "code",
   "execution_count": 431,
   "metadata": {},
   "outputs": [],
   "source": [
    "def accuracy_metric(actual, predicted):\n",
    "    \"\"\"\n",
    "    Purpose: Calculate the accuracy metric for model evaluation.\n",
    "\n",
    "    Description of Input Parameters:\n",
    "    - actual: List of actual class labels.\n",
    "    - predicted: List of predicted class labels.\n",
    "\n",
    "    Description of Return Data:\n",
    "    - accuracy: Accuracy percentage.\n",
    "\n",
    "    Libraries Used: None\n",
    "    \"\"\"\n",
    "    correct = 0\n",
    "    for i in range(len(actual)):\n",
    "        if actual[i] == predicted[i]:\n",
    "            correct += 1\n",
    "    return correct / float(len(actual)) * 100.0"
   ]
  },
  {
   "cell_type": "code",
   "execution_count": 432,
   "metadata": {},
   "outputs": [],
   "source": [
    "def check_accuracy(network, dataset):\n",
    "    \"\"\"\n",
    "    Purpose: Check accuracy of the trained neural network on a dataset.\n",
    "\n",
    "    Description of Input Parameters:\n",
    "    - network: Trained neural network model.\n",
    "    - dataset: Dataset for accuracy evaluation.\n",
    "\n",
    "    Description of Return Data:\n",
    "    - accuracy: Accuracy percentage.\n",
    "\n",
    "    Libraries Used: None\n",
    "    \"\"\"\n",
    "    predictions = []\n",
    "    actual = [row[-1] for row in dataset]\n",
    "    for row in dataset:\n",
    "        prediction = predict(network, row)\n",
    "        predictions.append(prediction)\n",
    "    return accuracy_metric(actual, predictions)"
   ]
  },
  {
   "cell_type": "code",
   "execution_count": 433,
   "metadata": {},
   "outputs": [],
   "source": [
    "# Initialize network and train it\n",
    "n_inputs = len(train_set[0]) - 1\n",
    "n_outputs = len(set(row[-1] for row in train_set))\n",
    "learning_rate = 0.1\n",
    "n_epochs = 100\n",
    "network = initialize_network(n_inputs, 8, n_outputs)  # Initialize a neural network with specified parameters\n",
    "train_network(network, train_set, learning_rate, n_epochs, n_outputs, verbose=False)  # Train the neural network"
   ]
  },
  {
   "cell_type": "markdown",
   "metadata": {},
   "source": [
    "### 3. Test the trained Model"
   ]
  },
  {
   "cell_type": "code",
   "execution_count": 434,
   "metadata": {},
   "outputs": [
    {
     "name": "stdout",
     "output_type": "stream",
     "text": [
      "Train Accuracy: 97.5\n",
      "Test Accuracy: 100.0\n"
     ]
    }
   ],
   "source": [
    "print(\"Train Accuracy:\", check_accuracy(network, train_set))  # Check accuracy on the training set\n",
    "print(\"Test Accuracy:\", check_accuracy(network, test_set))  # Check accuracy on the testing set"
   ]
  },
  {
   "cell_type": "code",
   "execution_count": 435,
   "metadata": {},
   "outputs": [
    {
     "name": "stdout",
     "output_type": "stream",
     "text": [
      "{'setosa': 0, 'versicolor': 1, 'virginica': 2}\n",
      "[5.5, 2.3, 4.0, 1.3, 'versicolor'] => Predicted Class: 1\n",
      "[5.7, 2.8, 4.5, 1.3, 'versicolor'] => Predicted Class: 1\n",
      "[4.9, 2.4, 3.3, 1.0, 'versicolor'] => Predicted Class: 1\n",
      "[6.6, 2.9, 4.6, 1.3, 'versicolor'] => Predicted Class: 1\n",
      "[5.0, 2.0, 3.5, 1.0, 'versicolor'] => Predicted Class: 1\n",
      "[6.0, 2.2, 4.0, 1.0, 'versicolor'] => Predicted Class: 1\n",
      "[5.6, 2.9, 3.6, 1.3, 'versicolor'] => Predicted Class: 1\n",
      "[5.8, 2.7, 4.1, 1.0, 'versicolor'] => Predicted Class: 1\n",
      "[5.6, 2.5, 3.9, 1.1, 'versicolor'] => Predicted Class: 1\n",
      "[6.1, 2.8, 4.0, 1.3, 'versicolor'] => Predicted Class: 1\n",
      "[6.1, 2.8, 4.7, 1.2, 'versicolor'] => Predicted Class: 1\n",
      "[6.4, 2.9, 4.3, 1.3, 'versicolor'] => Predicted Class: 1\n",
      "[5.7, 2.6, 3.5, 1.0, 'versicolor'] => Predicted Class: 1\n",
      "[5.5, 2.4, 3.8, 1.1, 'versicolor'] => Predicted Class: 1\n",
      "[5.5, 2.4, 3.7, 1.0, 'versicolor'] => Predicted Class: 1\n",
      "[5.8, 2.7, 3.9, 1.2, 'versicolor'] => Predicted Class: 1\n",
      "[6.3, 2.3, 4.4, 1.3, 'versicolor'] => Predicted Class: 1\n",
      "[5.6, 3.0, 4.1, 1.3, 'versicolor'] => Predicted Class: 1\n",
      "[5.5, 2.5, 4.0, 1.3, 'versicolor'] => Predicted Class: 1\n",
      "[5.5, 2.6, 4.4, 1.2, 'versicolor'] => Predicted Class: 1\n",
      "[5.8, 2.6, 4.0, 1.2, 'versicolor'] => Predicted Class: 1\n",
      "[5.0, 2.3, 3.3, 1.0, 'versicolor'] => Predicted Class: 1\n",
      "[5.6, 2.7, 4.2, 1.3, 'versicolor'] => Predicted Class: 1\n",
      "[5.7, 3.0, 4.2, 1.2, 'versicolor'] => Predicted Class: 1\n",
      "[5.7, 2.9, 4.2, 1.3, 'versicolor'] => Predicted Class: 1\n",
      "[6.2, 2.9, 4.3, 1.3, 'versicolor'] => Predicted Class: 1\n",
      "[5.1, 2.5, 3.0, 1.1, 'versicolor'] => Predicted Class: 1\n",
      "[5.7, 2.8, 4.1, 1.3, 'versicolor'] => Predicted Class: 1\n",
      "[5.8, 2.7, 5.1, 1.9, 'virginica'] => Predicted Class: 2\n",
      "[4.9, 2.5, 4.5, 1.7, 'virginica'] => Predicted Class: 2\n",
      "[6.5, 3.2, 5.1, 2.0, 'virginica'] => Predicted Class: 2\n",
      "[5.7, 2.5, 5.0, 2.0, 'virginica'] => Predicted Class: 2\n",
      "[5.8, 2.8, 5.1, 2.4, 'virginica'] => Predicted Class: 2\n",
      "[6.0, 2.2, 5.0, 1.5, 'virginica'] => Predicted Class: 2\n",
      "[5.6, 2.8, 4.9, 2.0, 'virginica'] => Predicted Class: 2\n",
      "[6.3, 2.7, 4.9, 1.8, 'virginica'] => Predicted Class: 2\n",
      "[6.2, 2.8, 4.8, 1.8, 'virginica'] => Predicted Class: 2\n",
      "[6.1, 3.0, 4.9, 1.8, 'virginica'] => Predicted Class: 2\n",
      "[6.3, 2.8, 5.1, 1.5, 'virginica'] => Predicted Class: 1\n",
      "[6.0, 3.0, 4.8, 1.8, 'virginica'] => Predicted Class: 2\n",
      "[6.9, 3.1, 5.1, 2.3, 'virginica'] => Predicted Class: 2\n",
      "[5.8, 2.7, 5.1, 1.9, 'virginica'] => Predicted Class: 2\n",
      "[6.3, 2.5, 5.0, 1.9, 'virginica'] => Predicted Class: 2\n",
      "[5.9, 3.0, 5.1, 1.8, 'virginica'] => Predicted Class: 2\n"
     ]
    }
   ],
   "source": [
    "print(lookup)\n",
    "\n",
    "unclassified = [[5.5, 2.3, 4.0, 1.3, 'versicolor'], [5.7, 2.8, 4.5, 1.3, 'versicolor'], [4.9, 2.4, 3.3, 1.0, 'versicolor'], [6.6, 2.9, 4.6, 1.3, 'versicolor'], [5.0, 2.0, 3.5, 1.0, 'versicolor'], [6.0, 2.2, 4.0, 1.0, 'versicolor'], [5.6, 2.9, 3.6, 1.3, 'versicolor'], [5.8, 2.7, 4.1, 1.0, 'versicolor'], [5.6, 2.5, 3.9, 1.1, 'versicolor'], [6.1, 2.8, 4.0, 1.3, 'versicolor'], [6.1, 2.8, 4.7, 1.2, 'versicolor'], [6.4, 2.9, 4.3, 1.3, 'versicolor'], [5.7, 2.6, 3.5, 1.0, 'versicolor'], [5.5, 2.4, 3.8, 1.1, 'versicolor'], [5.5, 2.4, 3.7, 1.0, 'versicolor'], [5.8, 2.7, 3.9, 1.2, 'versicolor'], [6.3, 2.3, 4.4, 1.3, 'versicolor'], [5.6, 3.0, 4.1, 1.3, 'versicolor'], [5.5, 2.5, 4.0, 1.3, 'versicolor'], [5.5, 2.6, 4.4, 1.2, 'versicolor'], [5.8, 2.6, 4.0, 1.2, 'versicolor'], [5.0, 2.3, 3.3, 1.0, 'versicolor'], [5.6, 2.7, 4.2, 1.3, 'versicolor'], [5.7, 3.0, 4.2, 1.2, 'versicolor'], [5.7, 2.9, 4.2, 1.3, 'versicolor'], [6.2, 2.9, 4.3, 1.3, 'versicolor'], [5.1, 2.5, 3.0, 1.1, 'versicolor'], [5.7, 2.8, 4.1, 1.3, 'versicolor'], [5.8, 2.7, 5.1, 1.9, 'virginica'], [4.9, 2.5, 4.5, 1.7, 'virginica'], [6.5, 3.2, 5.1, 2.0, 'virginica'], [5.7, 2.5, 5.0, 2.0, 'virginica'], [5.8, 2.8, 5.1, 2.4, 'virginica'], [6.0, 2.2, 5.0, 1.5, 'virginica'], [5.6, 2.8, 4.9, 2.0, 'virginica'], [6.3, 2.7, 4.9, 1.8, 'virginica'], [6.2, 2.8, 4.8, 1.8, 'virginica'], [6.1, 3.0, 4.9, 1.8, 'virginica'], [6.3, 2.8, 5.1, 1.5, 'virginica'], [6.0, 3.0, 4.8, 1.8, 'virginica'], [6.9, 3.1, 5.1, 2.3, 'virginica'], [5.8, 2.7, 5.1, 1.9, 'virginica'], [6.3, 2.5, 5.0, 1.9, 'virginica'], [5.9, 3.0, 5.1, 1.8, 'virginica']]\n",
    "for i in unclassified:\n",
    "    print(i, \"=> Predicted Class:\", predict(network, i[:-1]))  # Make predictions for each sample"
   ]
  },
  {
   "cell_type": "code",
   "execution_count": null,
   "metadata": {},
   "outputs": [],
   "source": []
  }
 ],
 "metadata": {
  "kernelspec": {
   "display_name": ".venv",
   "language": "python",
   "name": "python3"
  },
  "language_info": {
   "codemirror_mode": {
    "name": "ipython",
    "version": 3
   },
   "file_extension": ".py",
   "mimetype": "text/x-python",
   "name": "python",
   "nbconvert_exporter": "python",
   "pygments_lexer": "ipython3",
   "version": "3.11.8"
  }
 },
 "nbformat": 4,
 "nbformat_minor": 2
}
